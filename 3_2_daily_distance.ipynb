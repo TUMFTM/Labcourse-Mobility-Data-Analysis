{
 "cells": [
  {
   "cell_type": "markdown",
   "metadata": {},
   "source": [
    "# Exercise 3.2 - Daily distance\n",
    "\n",
    "\n",
    "## Introduction \n",
    "In this exercise you are going to analyze the daily distance, i.e., distance covered by a vehicle in one day, of our vehicle. The daily distance of a vehicle is an established characteristic value due to its simplicity and availability. It gathers various information such as the level and regularity of utilization and therefore allows first conclusions with regard to the vehicle’s movement patterns.\n",
    "\n",
    "## Preparation\n",
    "First of all we need to import all necessary packages and modules:\n",
    "* pandas (pandas dataframes)\n",
    "* numpy (numpy arrays as well as various mathematical methods)\n",
    "* matplotlib.pyplot (plotting)\n",
    "* register_matplotlib_converters (datetime converter for a matplotlib plotting method)\n",
    "\n",
    "Notice:<br/> \n",
    "In order to use datetime objects in plots a datetime converter is necessary. Currently the datetime converter is registered implicitly by pandas on import. However, Future versions of pandas will require you to explicitly register matplotlib converters. This is why we import and register the datetime converter manually."
   ]
  },
  {
   "cell_type": "code",
   "execution_count": null,
   "metadata": {},
   "outputs": [],
   "source": [
    "import pandas as pd\n",
    "import numpy as np\n",
    "import matplotlib.pyplot as plt\n",
    "from pandas.plotting import register_matplotlib_converters"
   ]
  },
  {
   "cell_type": "markdown",
   "metadata": {},
   "source": [
    "Further, we want to set the font size of all plots globally and we need to register the datetime converter. "
   ]
  },
  {
   "cell_type": "code",
   "execution_count": null,
   "metadata": {},
   "outputs": [],
   "source": [
    "# set font size of all plots globally\n",
    "plt.rcParams.update({'font.size': 16})\n",
    "\n",
    "# register datetime converter for a matplotlib plotting method\n",
    "register_matplotlib_converters()"
   ]
  },
  {
   "cell_type": "markdown",
   "metadata": {},
   "source": [
    "## Data import"
   ]
  },
  {
   "cell_type": "code",
   "execution_count": null,
   "metadata": {},
   "outputs": [],
   "source": [
    "data_df = pd.read_pickle('data/e32_data_df.pkl')"
   ]
  },
  {
   "cell_type": "markdown",
   "metadata": {},
   "source": [
    "## Available data\n",
    "The data that is available for the following exercises is a pandas dataframe called data_df with the following rows:\n",
    "* days: day as datetime64\n",
    "* daily_distance: distance in m covered by the vehicle in one day"
   ]
  },
  {
   "cell_type": "code",
   "execution_count": null,
   "metadata": {},
   "outputs": [],
   "source": [
    "display(data_df)"
   ]
  },
  {
   "cell_type": "markdown",
   "metadata": {},
   "source": [
    "## Exercise 3.2.1 Calculate statistical measures\n",
    "\n",
    "### Task\n",
    "First of all, we are going to calculate some statistical measures for later usage. The Five-Number Summary is a proven method to describe a numerical data set statistically. \n",
    "1. Calculate all statistical measures according to the Five-number summary.\n",
    "2. Ensure that all quantaties are scaled to km in order to increase readability. \n",
    "\n",
    "##### Signature of the script\n",
    "The signature of the script definies the interfaces (INPUT, OUTPUT) of the current task within this notebook. It is up to you, how you get from INPUT to OUTPUT.\n",
    "* INPUT: Pandas dataframe data_df\n",
    "* OUPUT: Scalar values minimum, lower_quartile, median, upper_quartile and maximum\n",
    "\n",
    "###### Reminder\n",
    "The Five-Number-Summary is a common set of statistical measures. It consists of the following five statistical measures:\n",
    "* The minimum value of a data set\n",
    "* The lower quartile of a data set\n",
    "* The median of a data set \n",
    "* The upper quartile of a data set\n",
    "* the maximum value of a data set \n",
    "\n",
    "##### Hint\n",
    "Use numpy (https://docs.scipy.org/doc/numpy-1.14.0/reference/routines.statistics.html) to calculate the Five-Number-Summary. \n",
    "\n",
    "##### Solution\n",
    "minimum = 4.194<br/>\n",
    "lower_quartile = 29.7685<br/>\n",
    "median = 84.403<br/>\n",
    "upper_quartile = 126.7895<br/>\n",
    "maximum = 353.66\n",
    "\n",
    "### Your code goes here:"
   ]
  },
  {
   "cell_type": "code",
   "execution_count": null,
   "metadata": {},
   "outputs": [],
   "source": [
    "#<<solution>>\n",
    "# convert data to numpy arrays\n",
    "daily_distance = data_df['daily_distance'].values\n",
    "days = data_df['day'].values\n",
    "\n",
    "# scale values to km\n",
    "daily_distance = daily_distance / 1000\n",
    "\n",
    "# calculate minimum\n",
    "minimum = np.min(daily_distance)\n",
    "\n",
    "# calculate lower quartile\n",
    "lower_quartile = np.quantile(daily_distance, 0.25)\n",
    "\n",
    "# calculate median\n",
    "median = np.median(daily_distance)\n",
    "\n",
    "# calculate upper quartile\n",
    "upper_quartile = np.quantile(daily_distance, 0.75)\n",
    "\n",
    "# calculate maximum\n",
    "maximum = np.max(daily_distance)\n",
    "\n",
    "# print results\n",
    "print('minimum =', minimum)\n",
    "print('lower_quartile =', lower_quartile)\n",
    "print('median =', median)\n",
    "print('upper_quartile =', upper_quartile)\n",
    "print('maximum =', maximum)\n",
    "#<</solution>>"
   ]
  },
  {
   "cell_type": "markdown",
   "metadata": {},
   "source": [
    "## Exercise 3.2.2 Plot daily distances over days\n",
    "\n",
    "### Task\n",
    "In this task we want to plot the daily distances over the days. Our aim is to gain a first impression of our vehicle's movement patterns. We are going to use a bar chart for this purpose. In addition, we want to visualize the Five-Number Summary using horizontal lines within the same plot. \n",
    "1. Create a plot as depicted below.\n",
    "\n",
    "##### Signature of the script\n",
    "The signature of the script definies the interfaces (INPUT, OUTPUT) of the current task within this notebook. It is up to you, how you get from INPUT to OUTPUT.\n",
    "* INPUT: Pandas dataframe data_df, scalar values minimum, lower_quartile, median, upper_quartile and maximum\n",
    "* OUPUT: Plot as depicted below\n",
    "\n",
    "###### Reminder\n",
    "-\n",
    "\n",
    "##### Hint\n",
    "-\n",
    "\n",
    "##### Solution\n",
    "![title](data/img/solution_e412.png)\n",
    "\n",
    "### Your code goes here:"
   ]
  },
  {
   "cell_type": "code",
   "execution_count": null,
   "metadata": {},
   "outputs": [],
   "source": [
    "#<<solution>>\n",
    "# create figure\n",
    "fig, ax = plt.subplots(figsize=(15, 10))\n",
    "\n",
    "# set title\n",
    "plt.title('Daily distances over days')\n",
    "\n",
    "# plot daily distances as bar plot\n",
    "ax.bar(days, daily_distance, label='Daily distance')\n",
    "\n",
    "# plot statistical measures as horizontal lines\n",
    "plt.hlines(maximum, days.min(), days.max(), label='Maximum', color='red', linestyle='-')\n",
    "plt.hlines(upper_quartile, days.min(), days.max(), label='Upper quartile', color='grey', linestyle='-.')\n",
    "plt.hlines(median, days.min(), days.max(), label='Median', color='orange', linestyle='-')\n",
    "plt.hlines(lower_quartile, days.min(), days.max(), label='Lower quartile', color='grey', linestyle='--')\n",
    "plt.hlines(minimum, days.min(), days.max(), label='Minimum', color='green', linestyle='-')\n",
    "\n",
    "plt.setp( ax.xaxis.get_majorticklabels(), rotation=45 )\n",
    "\n",
    "ax.legend(loc='upper right')\n",
    "\n",
    "plt.ylabel('Daily distance in km')\n",
    "plt.xlabel('Day')\n",
    "\n",
    "ax.set_axisbelow(True)\n",
    "\n",
    "ax.grid(axis='y')\n",
    "\n",
    "plt.show()\n",
    "#<</solution>>"
   ]
  },
  {
   "cell_type": "markdown",
   "metadata": {},
   "source": [
    "## Exercise 3.2.3 Compare histogram and CDF\n",
    "\n",
    "### Task\n",
    "As you already know, a CDF has some clear advantages over the classic histogram. In order to compare both visualization techniques, we now want to plot both within one matplotlib figure. \n",
    "1. Create a plot as depicted below.\n",
    "2. Can you confirm all claims of the articel \"Why we love the CDF and do not like histograms that much?\" published here: https://www.andata.at/en/software-blog-reader/why-we-love-the-cdf-and-do-not-like-histograms-that-much.html \n",
    "\n",
    "##### Signature of the script\n",
    "The signature of the script definies the interfaces (INPUT, OUTPUT) of the current task within this notebook. It is up to you, how you get from INPUT to OUTPUT.\n",
    "* INPUT: Pandas dataframe data_df\n",
    "* OUPUT: Plot as depicted below\n",
    "\n",
    "###### Reminder\n",
    "-\n",
    "\n",
    "##### Hint\n",
    "* Use subplot function (https://matplotlib.org/3.1.1/api/_as_gen/matplotlib.pyplot.subplot.html) to place two plots within one figure\n",
    "* In order to get the same plot styling as depicted below, you need to use following parameters: alpha=0.2, edgecolor='blue'\n",
    "* Use the hist function (https://matplotlib.org/3.1.1/api/_as_gen/matplotlib.pyplot.hist.html) for both plots, i.e., histogram and CDF. Use following parameters to get the CDF: density=True and cumulative=True\n",
    "\n",
    "##### Solution\n",
    "![title](data/img/solution_e413.png)\n",
    "\n",
    "### Your code goes here:"
   ]
  },
  {
   "cell_type": "code",
   "execution_count": null,
   "metadata": {},
   "outputs": [],
   "source": [
    "#<<solution>>\n",
    "fig, ax = plt.subplots(2, sharex=True, figsize=(15, 10))\n",
    "fig.suptitle('Histogram and CDF')\n",
    "\n",
    "ax[0].hist(daily_distance, label='Daily distance', alpha=0.2, edgecolor='blue')\n",
    "ax[1].hist(daily_distance, density=True, cumulative=True, label='Daily distance', alpha=0.2, edgecolor='blue')\n",
    "\n",
    "ax[0].set(ylabel='Number of days')\n",
    "ax[1].set(ylabel='Cumulative relative frequency')\n",
    "\n",
    "x_min = daily_distance.min()\n",
    "x_max = daily_distance.max()\n",
    "\n",
    "for axs in ax.flat:\n",
    "    axs.set(xlabel='Daily distance in km')\n",
    "    axs.set_xlim([x_min, x_max])\n",
    "    axs.grid(axis='y')\n",
    "    axs.set_axisbelow(True)\n",
    "    # Hide x labels and tick labels for top plots \n",
    "    axs.label_outer()\n",
    "    \n",
    "plt.show()\n",
    "#<</solution>>"
   ]
  },
  {
   "cell_type": "markdown",
   "metadata": {},
   "source": [
    "## Exercise 3.2.4 Plot CDF \n",
    "\n",
    "### Task\n",
    "Obviously, the CDF has some advantages when comparing it to the histogram. However, the explanatory power of our CDF above is still limited due to the quite big bin size (= 10, see https://matplotlib.org/3.1.1/api/_as_gen/matplotlib.pyplot.hist.html) automatically used by matplotlib. To get a more familiar representation of the CDF, i.e., as a continous line, we need to calculate the CDF before plotting it as a simple line plot. \n",
    "1. Create a plot as depicted below.\n",
    "\n",
    "###### Reminder\n",
    "You can calculate the CDF using following code:<br/>\n",
    "hist, bin_edges = np.histogram(data, bins=1000, density=True)<br/>\n",
    "cdf = np.cumsum(hist)<br/>\n",
    "cdf = cdf / cdf[-1]<br/>\n",
    "\n",
    "And plot it as follows:<br/>\n",
    "ax.plot(bin_edges[1:], cdf)\n",
    "\n",
    "##### Hint\n",
    "\n",
    "\n",
    "##### Solution\n",
    "![title](data/img/solution_e414.png)"
   ]
  },
  {
   "cell_type": "markdown",
   "metadata": {},
   "source": [
    " ### Your code here:"
   ]
  },
  {
   "cell_type": "code",
   "execution_count": null,
   "metadata": {},
   "outputs": [],
   "source": [
    "#<<solution>>\n",
    "# Choose how many bins you want here\n",
    "num_bins = 1000\n",
    "\n",
    "# Use the numpy histogram function to bin the data\n",
    "hist, bin_edges = np.histogram(daily_distance, bins=num_bins, density=True)\n",
    "\n",
    "# Now find the cdf\n",
    "cdf = np.cumsum(hist)\n",
    "cdf = cdf/cdf[-1]\n",
    "\n",
    "# create figure\n",
    "fig, ax = plt.subplots(figsize=(15, 10))\n",
    "\n",
    "# set title\n",
    "plt.title('Cumulative distribution function')\n",
    "\n",
    "# plot cdf\n",
    "ax.plot(bin_edges[1:], cdf, label='CDF')\n",
    "\n",
    "# plot statistical measures as vertical lines\n",
    "plt.vlines(maximum, 0, 1, label='Maximum', color='red', linestyle='-')\n",
    "plt.vlines(upper_quartile, 0, 0.75, label='Upper quartile', color='grey', linestyle='-.')\n",
    "plt.vlines(median, 0, 0.5, label='Median', color='orange', linestyle='-')\n",
    "plt.vlines(lower_quartile, 0, 0.25, label='Lower quartile', color='grey', linestyle='--')\n",
    "plt.vlines(minimum, 0, cdf.min(), label='Minimum', color='green', linestyle='-')\n",
    "\n",
    "plt.hlines(1, 0, maximum, colors='red', linestyle='-')\n",
    "plt.hlines(0.75, 0, upper_quartile, colors='grey', linestyle='-.')\n",
    "plt.hlines(0.5, 0, median, colors='orange', linestyle='-')\n",
    "plt.hlines(0.25, 0, lower_quartile, colors='grey', linestyle='--')\n",
    "plt.hlines(cdf.min(), 0, minimum, colors='green', linestyle='-')\n",
    "\n",
    "\n",
    "ax.legend(loc='lower right')\n",
    "\n",
    "ax.set_xlim([0, daily_distance.max() * 1.05])\n",
    "ax.set_ylim([0, cdf.max() * 1.05])\n",
    "        \n",
    "plt.ylabel('Cumulative relative frequency')\n",
    "plt.xlabel('Daily distance in km')\n",
    "\n",
    "plt.yticks(np.arange(0, 1.1, step=0.1))\n",
    "\n",
    "ax.grid()\n",
    "plt.show()\n",
    "#<</solution>>"
   ]
  },
  {
   "cell_type": "code",
   "execution_count": null,
   "metadata": {},
   "outputs": [],
   "source": []
  },
  {
   "cell_type": "code",
   "execution_count": null,
   "metadata": {},
   "outputs": [],
   "source": []
  }
 ],
 "metadata": {
  "kernelspec": {
   "display_name": "Python 3",
   "language": "python",
   "name": "python3"
  },
  "language_info": {
   "codemirror_mode": {
    "name": "ipython",
    "version": 3
   },
   "file_extension": ".py",
   "mimetype": "text/x-python",
   "name": "python",
   "nbconvert_exporter": "python",
   "pygments_lexer": "ipython3",
   "version": "3.6.8"
  }
 },
 "nbformat": 4,
 "nbformat_minor": 2
}
