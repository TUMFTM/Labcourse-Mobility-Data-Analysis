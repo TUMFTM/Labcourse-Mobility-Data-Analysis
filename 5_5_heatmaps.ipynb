{
 "cells": [
  {
   "cell_type": "markdown",
   "metadata": {},
   "source": [
    "## Data Import\n",
    "1. Use Pandas to import the pickle file of carsharing Trip Data\n",
    "2. Take a look at the structure of the dataset by displaying it ( display())"
   ]
  },
  {
   "cell_type": "code",
   "execution_count": null,
   "metadata": {
    "ExecuteTime": {
     "end_time": "2019-09-18T07:18:14.434172Z",
     "start_time": "2019-09-18T07:18:14.089563Z"
    }
   },
   "outputs": [],
   "source": [
    "import pandas as pd\n",
    "import geopandas as gpd\n",
    "import shapely.wkb\n",
    "from shapely.geometry import Point\n",
    "from matplotlib import pyplot as plt\n",
    "%matplotlib inline\n",
    "trips = pd.read_pickle('data/trips.p')\n",
    "trips = gpd.GeoDataFrame(trips, geometry = 'start_geom')\n",
    "\n",
    "display(trips.head())"
   ]
  },
  {
   "cell_type": "markdown",
   "metadata": {},
   "source": [
    "Plot the start position of the trips"
   ]
  },
  {
   "cell_type": "code",
   "execution_count": null,
   "metadata": {
    "ExecuteTime": {
     "end_time": "2019-09-18T07:27:43.210330Z",
     "start_time": "2019-09-18T07:27:42.633322Z"
    }
   },
   "outputs": [],
   "source": [
    "fig, ax = plt.subplots(figsize = (10,10))\n",
    "ax.scatter(trips.start_geom.x.values,trips.start_geom.y.values, s=0.4)\n",
    "fig.show()"
   ]
  },
  {
   "cell_type": "markdown",
   "metadata": {},
   "source": [
    "1. What is the period the data was collected? \n",
    "2. How many different cars are included in the dataset?\n",
    "3. Which vehicle has done the most trips? How many is it?"
   ]
  },
  {
   "cell_type": "code",
   "execution_count": null,
   "metadata": {
    "ExecuteTime": {
     "end_time": "2019-09-18T07:18:51.653682Z",
     "start_time": "2019-09-18T07:18:51.571102Z"
    }
   },
   "outputs": [],
   "source": [
    "# Your code here\n",
    "#<<solution>>\n",
    "#1\n",
    "print ('Start: '+ str(min(trips.start_time)))\n",
    "print ('End: ' + str(max(trips.stop_time)))\n",
    "print ('Duration: '+ str( max(trips.start_time)-min(trips.stop_time) ))\n",
    "#2\n",
    "print('Number of Vehicles: '+ str( pd.Series(trips.qnr).unique().size ))\n",
    "#3\n",
    "print('Vehicle with most Trips: '+ str( pd.Series(trips.qnr).value_counts().index[0] ))\n",
    "print('Number of Trips: '+ str( pd.Series(trips.qnr).value_counts().values[0] ))\n",
    "#<</solution>>"
   ]
  },
  {
   "cell_type": "markdown",
   "metadata": {},
   "source": [
    "Create a Heatmap of all trip start locations with folium.    \n",
    "Try different parameters for the heatmap creation."
   ]
  },
  {
   "cell_type": "code",
   "execution_count": null,
   "metadata": {
    "ExecuteTime": {
     "end_time": "2019-09-18T07:19:01.524501Z",
     "start_time": "2019-09-18T07:19:00.762183Z"
    }
   },
   "outputs": [],
   "source": [
    "import folium\n",
    "from folium.plugins import HeatMap\n",
    "import numpy as np\n",
    "\n",
    "# Create a Basemap drawing fuction\n",
    "def create_Basemap():\n",
    "    hmap = folium.Map(location=[48.265035, 11.668141], zoom_start=12, tiles='cartodbpositron') # Garching center\n",
    "    return hmap\n",
    "\n",
    "# create a Heatmap drawing function\n",
    "def draw_Heatmap(indata, bmap):\n",
    "    datalist = list(zip(indata.y.values,indata.x.values)) # get lat lon from shapely object\n",
    "    HeatMap(datalist, \n",
    "            min_opacity=0.2,\n",
    "            radius=10, blur=25,\n",
    "            max_zoom=1).add_to(bmap)\n",
    "    return bmap\n",
    "    \n",
    "basemap = create_Basemap()\n",
    "draw_Heatmap(trips.start_geom,basemap)"
   ]
  },
  {
   "cell_type": "markdown",
   "metadata": {},
   "source": [
    "For further analysis, plot the distribution of trip start time and their duration. What do you notice?"
   ]
  },
  {
   "cell_type": "code",
   "execution_count": null,
   "metadata": {
    "ExecuteTime": {
     "end_time": "2019-09-18T07:54:50.926656Z",
     "start_time": "2019-09-18T07:54:50.626311Z"
    }
   },
   "outputs": [],
   "source": [
    "trips['duration']= (trips.stop_time-trips.start_time).apply(lambda x: x.seconds/3600.)\n",
    "trips['start_hour']= trips.start_time.apply(lambda x: (x.hour*60.0+x.minute)/60)\n",
    "trips['avg_speed'] = trips.dist/(trips.duration)\n",
    "fig, ax = plt.subplots(figsize = (15,10))\n",
    "ax.scatter(trips.start_hour, trips.duration, s= 0.3)\n",
    "ax.set_ylim(0,4)\n",
    "ax.set_xlim(0,24)\n",
    "ax.set_xlabel('Hour of day')\n",
    "ax.set_ylabel('Duration in h')\n",
    "fig.show()"
   ]
  },
  {
   "cell_type": "markdown",
   "metadata": {},
   "source": [
    "Now we use scipys KDE function to generate a KDE of the start times"
   ]
  },
  {
   "cell_type": "code",
   "execution_count": null,
   "metadata": {
    "ExecuteTime": {
     "end_time": "2019-09-18T07:47:49.144660Z",
     "start_time": "2019-09-18T07:47:49.049037Z"
    }
   },
   "outputs": [],
   "source": [
    "from scipy import stats\n",
    "min_v = np.min(trips.start_hour)\n",
    "max_v = np.max(trips.start_hour)\n",
    "grid = np.linspace(min_v, max_v, 100)\n",
    "\n",
    "kernel = stats.gaussian_kde(trips.start_hour, 0.1)\n",
    "fig, ax = plt.subplots()\n",
    "ax.plot(grid,kernel.evaluate(grid), 'r-')\n",
    "ax.set_xlabel('Values')\n",
    "ax.set_ylabel('Density')\n",
    "fig.show()"
   ]
  },
  {
   "cell_type": "markdown",
   "metadata": {},
   "source": [
    "Play around with heatmaps. Use different values and filters. What can you find out about the dataset?"
   ]
  },
  {
   "cell_type": "code",
   "execution_count": null,
   "metadata": {
    "ExecuteTime": {
     "end_time": "2019-09-18T08:00:03.115027Z",
     "start_time": "2019-09-18T08:00:03.049771Z"
    }
   },
   "outputs": [],
   "source": [
    "condition= (trips.start_hour > 6) & (trips.start_hour < 8)\n",
    "basemap = create_Basemap()\n",
    "trips = trips.set_geometry('stop_geom')\n",
    "draw_Heatmap(trips[condition].stop_geom,basemap)"
   ]
  },
  {
   "cell_type": "code",
   "execution_count": null,
   "metadata": {
    "ExecuteTime": {
     "end_time": "2019-09-18T08:06:19.560304Z",
     "start_time": "2019-09-18T08:05:50.330022Z"
    }
   },
   "outputs": [],
   "source": []
  }
 ],
 "metadata": {
  "kernelspec": {
   "display_name": "Python 3",
   "language": "python",
   "name": "python3"
  },
  "language_info": {
   "codemirror_mode": {
    "name": "ipython",
    "version": 3
   },
   "file_extension": ".py",
   "mimetype": "text/x-python",
   "name": "python",
   "nbconvert_exporter": "python",
   "pygments_lexer": "ipython3",
   "version": "3.6.9"
  }
 },
 "nbformat": 4,
 "nbformat_minor": 4
}
