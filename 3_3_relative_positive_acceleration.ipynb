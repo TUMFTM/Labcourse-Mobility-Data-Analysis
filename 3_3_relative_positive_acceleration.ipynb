{
 "cells": [
  {
   "cell_type": "markdown",
   "metadata": {},
   "source": [
    "# Exercise 3.4 - Relative positive acceleration\n",
    "\n",
    "## Introduction \n",
    "In this exercise we are going to investigate the acceleration in terms of the relative positive acceleration (RPA). The RPA is a measure for the frequency and intensity of positive accelerations. This exercise consists of two parts. In the first part, we are going to calculate the RPA of an exemplary day of our vehicle. The second part focuses on the analysis of the RPA per day. \n",
    "\n",
    "## Preparation\n",
    "First of all we need to import all necessary packages and modules. In this case we need:\n",
    "* pandas (pandas dataframes)\n",
    "* numpy (numpy arrays as well as various mathematical methods)\n",
    "* matplotlib.pyplot (plotting)"
   ]
  },
  {
   "cell_type": "code",
   "execution_count": null,
   "metadata": {},
   "outputs": [],
   "source": [
    "import pandas as pd\n",
    "import numpy as np\n",
    "import matplotlib.pyplot as plt"
   ]
  },
  {
   "cell_type": "markdown",
   "metadata": {},
   "source": [
    "Further, we want to set the font size of all plots globally. "
   ]
  },
  {
   "cell_type": "code",
   "execution_count": null,
   "metadata": {},
   "outputs": [],
   "source": [
    "# set font size of all plots globally\n",
    "plt.rcParams.update({'font.size': 16})"
   ]
  },
  {
   "cell_type": "markdown",
   "metadata": {},
   "source": [
    "## Data import - Part 1\n",
    "Here the necessary data for the first part of this exercise is imported and saved as a pandas dataframe using pandas read_pickle function. Further, we sort the dataframe chronologically. "
   ]
  },
  {
   "cell_type": "code",
   "execution_count": null,
   "metadata": {},
   "outputs": [],
   "source": [
    "data_df = pd.read_pickle('data/e34_part1_data_df.pkl')"
   ]
  },
  {
   "cell_type": "markdown",
   "metadata": {},
   "source": [
    "## Available data - Part 1\n",
    "The data that is available for the following exercises is a pandas dataframe called data_df with the following rows:\n",
    "* time: timestamp as datetime64\n",
    "* distance: distance in m to the next time step\n",
    "* speed: speed values in m/s\n",
    "* time_diff: difference in s between two subsequent timestamps\n",
    "* acceleration: acceleration in m/s^2"
   ]
  },
  {
   "cell_type": "code",
   "execution_count": null,
   "metadata": {},
   "outputs": [],
   "source": [
    "display(data_df)"
   ]
  },
  {
   "cell_type": "markdown",
   "metadata": {},
   "source": [
    "## Exercise 3.4.1 Calculate realative positive acceleration\n",
    "\n",
    "### Task\n",
    "The RPA is a measure for the frequency and intensity of positive accelerations. This exercise consists of two parts. It is calculated according to:\n",
    "$$RPA = \\frac{1}{d_{tot}} \\sum_{t=0}^{t_{final}} v \\cdot a^{+} \\cdot \\delta t$$\n",
    "\n",
    "where $d_{tot}$ is the total daily distance, $a^{+}$ indicates a positive acceleration, $v$ is the speed and $\\delta t$ is the duration until the next timestamp, i.e., time_diff.\n",
    "\n",
    "* Implement a function that calculates the relative positive acceleration for one day of our vehicle according to:\n",
    "* Test your function using the given data.\n",
    "\n",
    "##### Signature of the function\n",
    "rpa = calculate_relative_positive_acceleration(acceleration, speed, time_diff, distance) \n",
    "\n",
    "* INPUT: acceleration, speed, time_diff, distance as numpy arrays\n",
    "* OUPUT: rpa as scalar value \n",
    "\n",
    "###### Reminder\n",
    "-\n",
    "\n",
    "##### Hint\n",
    "-\n",
    "\n",
    "##### Solution\n",
    "rpa = 0.34727876393372664"
   ]
  },
  {
   "cell_type": "markdown",
   "metadata": {},
   "source": [
    "### Your code here:"
   ]
  },
  {
   "cell_type": "code",
   "execution_count": null,
   "metadata": {},
   "outputs": [],
   "source": [
    "#<<solution>>\n",
    "def calculate_relative_positive_acceleration(acceleration, speed, time_diff, distance):\n",
    "\n",
    "    if len(distance) != len(speed) != len(acceleration) != len(time_diff):\n",
    "        return np.nan\n",
    "\n",
    "    else:\n",
    "\n",
    "        # initialize rpa\n",
    "        rpa_sum = 0\n",
    "\n",
    "        # calculate total distance\n",
    "        total_distance = distance.sum()\n",
    "\n",
    "        # loop distance\n",
    "        for i in range(0, len(acceleration) - 1):\n",
    "\n",
    "            if acceleration[i] > 0:\n",
    "\n",
    "                rpa_sum += (time_diff[i] * speed[i] * acceleration[i])\n",
    "\n",
    "        # scale to total distance\n",
    "        rpa = rpa_sum / total_distance\n",
    "\n",
    "        return rpa\n",
    "    \n",
    "    \n",
    "# extract values from data_df and convert to numpy array\n",
    "acceleration = data_df['acceleration'].values\n",
    "speed = data_df['speed'].values\n",
    "time_diff = data_df['time_diff'].values\n",
    "distance = data_df['distance'].values\n",
    "\n",
    "# calculate discrete velocity distribution\n",
    "rpa = calculate_relative_positive_acceleration(acceleration, speed, time_diff, distance)\n",
    "\n",
    "print('rpa =', rpa)\n",
    "#<</solution>>"
   ]
  },
  {
   "cell_type": "markdown",
   "metadata": {},
   "source": [
    "## Data import - Part 2\n",
    "Here the necessary data for the second part of this exercise is imported and saved as a pandas dataframe using pandas read_pickle function. Further, we sort the dataframe chronologically. "
   ]
  },
  {
   "cell_type": "code",
   "execution_count": null,
   "metadata": {},
   "outputs": [],
   "source": [
    "data_df = pd.read_pickle('data/e34_part2_data_df.pkl')"
   ]
  },
  {
   "cell_type": "markdown",
   "metadata": {},
   "source": [
    "## Available data - Part 2\n",
    "The data that is available for the following exercises is a pandas dataframe called data_df with the following rows:\n",
    "* day: day as datetime64\n",
    "* rpa: rpa in m/s^2"
   ]
  },
  {
   "cell_type": "code",
   "execution_count": null,
   "metadata": {},
   "outputs": [],
   "source": [
    "display(data_df)"
   ]
  },
  {
   "cell_type": "markdown",
   "metadata": {},
   "source": [
    "## Exercise 3.4.2 Plot rpa using different box plot settings\n",
    "\n",
    "### Task\n",
    "In this task we are going to visualize the rpa per day using a box plot. \n",
    "1. Create a plot as depicted below. It consists of three subplots. The first one is a basic plot, i.e., no parameters are passed to the box plot function. In the second one outliers are hide. The last box plot uses whiskers, that includes all outliers. \n",
    "\n",
    "##### Signature of the script\n",
    "The signature of the script definies the interfaces (INPUT, OUTPUT) of the current task within this notebook. It is up to you, how you get from INPUT to OUTPUT.\n",
    "* INPUT: Pandas dataframe data_df\n",
    "* OUPUT: Plot as depicted below\n",
    "\n",
    "###### Reminder\n",
    "* The goal of a box plot is to compare graphically various data sets within one diagram.\n",
    "\n",
    "##### Hint\n",
    "* Use the official matplotlib documentation for further information (https://matplotlib.org/3.1.1/api/_as_gen/matplotlib.pyplot.boxplot.html)\n",
    "\n",
    "##### Solution\n",
    "![title](data/img/solution_e432.png)\n",
    "\n",
    "### Your code here:"
   ]
  },
  {
   "cell_type": "code",
   "execution_count": null,
   "metadata": {},
   "outputs": [],
   "source": [
    "#<<solution>>\n",
    "rpa = data_df['rpa']\n",
    "\n",
    "fig, ax = plt.subplots(1, 3 , sharey=True, figsize=(15, 10))\n",
    "\n",
    "ax[0].set(title='Basic plot')\n",
    "ax[0].boxplot(rpa)\n",
    "\n",
    "ax[1].set(title='Hide outliers')\n",
    "ax[1].boxplot(rpa, showfliers=False)\n",
    "\n",
    "ax[2].set(title='Include outliers')\n",
    "ax[2].boxplot(rpa, whis='range')\n",
    "\n",
    "y_min = np.min(rpa) - 0.1\n",
    "y_max = np.max(rpa) + 0.1\n",
    "\n",
    "for axs in ax.flat:\n",
    "    axs.set(ylabel='Relative positive acceleration in m/s^2')\n",
    "    axs.set_ylim([y_min, y_max])\n",
    "    axs.grid(axis='y')\n",
    "\n",
    "    # Hide x labels and tick labels for top plots \n",
    "    axs.label_outer()\n",
    "\n",
    "plt.show()\n",
    "#<</solution>>"
   ]
  },
  {
   "cell_type": "markdown",
   "metadata": {},
   "source": [
    "## Exercise 3.4.3 Calculate box plot characteristics\n",
    "\n",
    "### Task\n",
    "Now we are going to calculate all box plot characteristics manually. We will use them in later tasks.\n",
    "1. Calculate all statistical measures that are included in a boxplot manually.\n",
    "\n",
    "##### Signature of the script\n",
    "* INPUT: Pandas dataframe data_df\n",
    "* OUPUT: All statistical measures that are usually included in a box plot.\n",
    "\n",
    "###### Reminder\n",
    "Statistical measures that are usually included:<br/> \n",
    "* Median, Maximum and minimum  \n",
    "* Quartiles (Q1 and Q3) and Interquartile range (IQR = Q3 – Q1)\n",
    "* Whiskers (indicating  variability outside the Q1 and Q3): \n",
    "* Lower whisker: Q1 – 1.5*IQR\n",
    "* Upper whisker: Q3 + 1.5*IQR\n",
    "* Outliers\n",
    "\n",
    "##### Hint\n",
    "The whiskers, that are depicted in a box plot, represents real values. The upper whisker will extend to the last value less than (Q3 + whis * IQR). Similarly, the lower whisker will extend to the first value greater than (Q1 - whis * IQR). \n",
    "see https://matplotlib.org/3.1.1/api/_as_gen/matplotlib.pyplot.boxplot.html\n",
    "\n",
    "##### Solution\n",
    "minimum = 0.00088893<br/>\n",
    "maximum = 0.609692<br/>\n",
    "median = 0.318714<br/>\n",
    "lower_quartile = 0.267899<br/>\n",
    "upper_quartile = 0.377053<br/>\n",
    "lower_whisker = 0.111165<br/>\n",
    "upper_whisker = 0.539693<br/>\n",
    "\n",
    "### Your code here:"
   ]
  },
  {
   "cell_type": "code",
   "execution_count": null,
   "metadata": {},
   "outputs": [],
   "source": [
    "#<<solution>>\n",
    "rpa = data_df['rpa']\n",
    "\n",
    "minimum = rpa.min()\n",
    "maximum = rpa.max()\n",
    "\n",
    "median = np.median(rpa)\n",
    "\n",
    "lower_quartile = np.quantile(rpa, 0.25)\n",
    "upper_quartile = np.quantile(rpa, 0.75)\n",
    "\n",
    "whis = 1.5\n",
    "iqr = upper_quartile - lower_quartile\n",
    "lower_whisker_theoretical = lower_quartile - (1.5 * iqr)\n",
    "upper_whisker_theoretical = upper_quartile + (1.5 * iqr)\n",
    "\n",
    "lower_whisker = rpa[rpa >= lower_whisker_theoretical].min()\n",
    "upper_whisker = rpa[rpa <= upper_whisker_theoretical].max()\n",
    "\n",
    "print('minimum =', minimum) \n",
    "print('maximum =', maximum)\n",
    "print('median =', median)\n",
    "print('lower_quartile =', lower_quartile)\n",
    "print('upper_quartile =', upper_quartile)\n",
    "print('lower_whisker =', lower_whisker)\n",
    "print('upper_whisker =', upper_whisker)\n",
    "#<</solution>>"
   ]
  },
  {
   "cell_type": "markdown",
   "metadata": {},
   "source": [
    "## Exercise 3.4.4 Compare box plot and histogram\n",
    "\n",
    "### Task\n",
    "Finally, we are going to visualize all box plot characeteristics inside of a histogram und compare the resulting plot with the box plot. \n",
    "1. Create a plot as depicted below. Set the number of bins of the histogram to the number of rpa values. \n",
    "\n",
    "##### Signature of the script\n",
    "* INPUT: Pandas dataframe data_df\n",
    "* OUPUT: Plot as depicted below\n",
    "\n",
    "###### Reminder\n",
    "-\n",
    "\n",
    "##### Hint\n",
    "* By passing gridspec_kw={'hspace': 0} to the subplot function you can hide the vertical space between two superposed subplots.\n",
    "* In order to get the same plot styling as depicted below, you need to use following parameters: alpha=0.2, edgecolor='blue'\n",
    "\n",
    "##### Solution\n",
    "![title](data/img/solution_e433.png)\n",
    "\n",
    "### Your code here:"
   ]
  },
  {
   "cell_type": "code",
   "execution_count": null,
   "metadata": {},
   "outputs": [],
   "source": [
    "#<<solution>>\n",
    "rpa = data_df['rpa']\n",
    "\n",
    "fig, ax = plt.subplots(2, sharex=True, figsize=(15, 10), gridspec_kw={'hspace': 0})\n",
    "\n",
    "fig.suptitle('Boxplot and histogram')\n",
    "\n",
    "# Boxplot\n",
    "ax[0].boxplot(rpa, vert=False, whis=1.5)\n",
    "\n",
    "# Histogram\n",
    "num_bins = int(len(rpa)/5)\n",
    "n, bins, patches = ax[1].hist(rpa, bins=num_bins, alpha=0.2, edgecolor='blue')\n",
    "\n",
    "# set axis limits\n",
    "x_range = rpa.max() - rpa.min()\n",
    "x_min = rpa.min() - 0.05*x_range\n",
    "x_max = rpa.max() + 0.05*x_range\n",
    "\n",
    "y_range = n.max() - n.min()\n",
    "y1_min = 0\n",
    "y1_max = n.max() + 0.05*y_range\n",
    "\n",
    "ax[1].vlines(minimum, ymin=y1_min, ymax=y1_max, colors='black')\n",
    "ax[1].vlines(maximum, ymin=y1_min, ymax=y1_max, colors='black')\n",
    "ax[1].vlines(median, ymin=y1_min, ymax=y1_max, colors='orange')\n",
    "ax[1].vlines(lower_whisker, ymin=y1_min, ymax=y1_max, colors='black')\n",
    "ax[1].vlines(upper_whisker, ymin=y1_min, ymax=y1_max, colors='black')\n",
    "ax[1].vlines(lower_quartile, ymin=y1_min, ymax=y1_max, colors='black')\n",
    "ax[1].vlines(upper_quartile, ymin=y1_min, ymax=y1_max, colors='black')\n",
    "\n",
    "\n",
    "ax[1].set_ylim([y1_min, y1_max])\n",
    "ax[1].set(ylabel='Relative frequency')\n",
    "\n",
    "for axs in ax.flat:\n",
    "    axs.set(xlabel='Relative positive acceleration in m/s^2')\n",
    "    axs.set_xlim([x_min, x_max])\n",
    "    axs.grid()\n",
    "    axs.label_outer()\n",
    "\n",
    "plt.show()\n",
    "#<</solution>>"
   ]
  },
  {
   "cell_type": "code",
   "execution_count": null,
   "metadata": {},
   "outputs": [],
   "source": []
  }
 ],
 "metadata": {
  "kernelspec": {
   "display_name": "Python 3",
   "language": "python",
   "name": "python3"
  },
  "language_info": {
   "codemirror_mode": {
    "name": "ipython",
    "version": 3
   },
   "file_extension": ".py",
   "mimetype": "text/x-python",
   "name": "python",
   "nbconvert_exporter": "python",
   "pygments_lexer": "ipython3",
   "version": "3.6.8"
  }
 },
 "nbformat": 4,
 "nbformat_minor": 2
}
