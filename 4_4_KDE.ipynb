{
 "cells": [
  {
   "cell_type": "markdown",
   "metadata": {},
   "source": [
    "# KDE - Kernel density estimation\n",
    "Estimate the probability density function of a random variable.     \n",
    "What are kernels?\n",
    "![Kernels](data/img/kernels.png)"
   ]
  },
  {
   "cell_type": "code",
   "execution_count": null,
   "metadata": {
    "ExecuteTime": {
     "end_time": "2019-09-27T04:52:14.394888Z",
     "start_time": "2019-09-27T04:52:14.390883Z"
    }
   },
   "outputs": [],
   "source": [
    "# http://qingkaikong.blogspot.com/2018/05/kernel-density-estimation-animation.html\n",
    "import numpy as np\n",
    "import matplotlib.pyplot as plt\n",
    "import matplotlib\n",
    "import time\n",
    "%matplotlib inline"
   ]
  },
  {
   "cell_type": "markdown",
   "metadata": {},
   "source": [
    "We create som random, noisy data with hotspots at -5 and 10 and plot the relative distribution as as binned histogram"
   ]
  },
  {
   "cell_type": "code",
   "execution_count": null,
   "metadata": {
    "ExecuteTime": {
     "end_time": "2019-09-27T04:52:19.201146Z",
     "start_time": "2019-09-27T04:52:19.168988Z"
    }
   },
   "outputs": [],
   "source": [
    "np.random.seed(12)\n",
    "X = np.concatenate((np.random.normal(loc = -5, scale= 2, size = 100), np.random.normal(loc = 10, scale= 3, size = 100)))\n",
    "# let's shuffle the order of the data (this is most for the animation later)\n",
    "np.random.shuffle(X)\n",
    "fig, ax = plt.subplots()\n",
    "ax.hist(X, bins = 15, density=True)\n",
    "ax.plot(X, np.zeros(len(X)), '*k')\n",
    "ax.set_ylim((-0.01, 0.1))\n",
    "ax.set_xlabel('Values')\n",
    "ax.set_ylabel('Frequencies')\n",
    "fig.show()"
   ]
  },
  {
   "cell_type": "markdown",
   "metadata": {
    "ExecuteTime": {
     "end_time": "2019-09-18T06:11:55.562001Z",
     "start_time": "2019-09-18T06:11:55.553984Z"
    }
   },
   "source": [
    "Now we create a function to generate a single gaussian kernel on a point given."
   ]
  },
  {
   "cell_type": "code",
   "execution_count": null,
   "metadata": {
    "ExecuteTime": {
     "end_time": "2019-09-27T04:52:25.590722Z",
     "start_time": "2019-09-27T04:52:25.567084Z"
    }
   },
   "outputs": [],
   "source": [
    "def gaussian_kernel(x, mu, sigma):\n",
    "    return 1/(sigma * np.sqrt(2 * np.pi)) * np.exp( - (x - mu)**2 / (2 * sigma**2) )\n",
    "\n",
    "# generate grid\n",
    "min_v = np.min(X)\n",
    "max_v = np.max(X)\n",
    "grid = np.linspace(min_v, max_v, 100)\n",
    "\n",
    "# plot out the example\n",
    "fig, ax = plt.subplots()\n",
    "ax.plot(grid, gaussian_kernel(grid, mu = 5, sigma = 1.0))\n",
    "ax.set_title('Example of a kernel centered at 5')\n",
    "fig.show()"
   ]
  },
  {
   "cell_type": "code",
   "execution_count": null,
   "metadata": {},
   "outputs": [],
   "source": [
    "counter = 0 #rest graph"
   ]
  },
  {
   "cell_type": "markdown",
   "metadata": {},
   "source": [
    "This animation demonstrates how KDE is working. The KDE is the sum of all underlying kernels"
   ]
  },
  {
   "cell_type": "code",
   "execution_count": null,
   "metadata": {
    "ExecuteTime": {
     "end_time": "2019-09-27T04:53:19.303635Z",
     "start_time": "2019-09-27T04:52:27.015208Z"
    }
   },
   "outputs": [],
   "source": [
    "fig, ax = plt.subplots()\n",
    "fig.show()\n",
    "fig.canvas.draw()\n",
    "density_estimation = np.zeros(len(grid))\n",
    "\n",
    "line1, = ax.plot(grid, density_estimation, 'r-', label = 'Sum of all kernels')\n",
    "ax.set_ylim(-0.01, 0.1)\n",
    "ax.legend()\n",
    "ax.set_xlabel('Values')\n",
    "ax.set_ylabel('Density')\n",
    "\n",
    "for c in range(counter):\n",
    "    ax.plot(X[c], 0, '*k')\n",
    "    kernel = gaussian_kernel(grid, mu = X[c], sigma = 1.0)\n",
    "    density_estimation += kernel / len(X)\n",
    "    ax.plot(grid, kernel / 8, 'k', alpha = 0.1)\n",
    "    line1.set_data(grid, density_estimation)\n",
    "    fig.canvas.draw()\n",
    "    fig.show()\n",
    "counter +=1 # you can increase the stepsize"
   ]
  },
  {
   "cell_type": "markdown",
   "metadata": {},
   "source": [
    "Of couse we are not the first one using this function. this is alreasdy integrsted in a statistics module of scipy.    \n",
    "This function gives the same result"
   ]
  },
  {
   "cell_type": "code",
   "execution_count": null,
   "metadata": {
    "ExecuteTime": {
     "end_time": "2019-09-18T06:18:16.428203Z",
     "start_time": "2019-09-18T06:18:15.442029Z"
    }
   },
   "outputs": [],
   "source": [
    "from scipy import stats\n",
    "kernel = stats.gaussian_kde(X, 0.1)\n",
    "fig, ax = plt.subplots()\n",
    "ax.plot(grid,kernel.evaluate(grid), 'r-')\n",
    "ax.set_xlabel('Values')\n",
    "ax.set_ylabel('Density')\n",
    "fig.show()"
   ]
  },
  {
   "cell_type": "markdown",
   "metadata": {},
   "source": [
    "# KDE in 2D\n",
    "What if we want to estimate the kernel density of 2D data? That's wat generates Heatmaps."
   ]
  },
  {
   "cell_type": "code",
   "execution_count": null,
   "metadata": {
    "ExecuteTime": {
     "end_time": "2019-09-18T06:26:42.441115Z",
     "start_time": "2019-09-18T06:26:42.374928Z"
    }
   },
   "outputs": [],
   "source": [
    "# generate 2D random data this time\n",
    "np.random.seed(12)\n",
    "X = np.concatenate((np.random.normal(loc = -5, scale= 2, size = (100,2)), np.random.normal(loc = 10, scale= 3, size = (100,2))))\n",
    "\n",
    "# get the mesh\n",
    "m1, m2 = X[:, 0], X[:, 1]\n",
    "xmin = m1.min()\n",
    "xmax = m1.max()\n",
    "ymin = m2.min()\n",
    "ymax = m2.max()\n",
    "\n",
    "# get the density estimation \n",
    "X, Y = np.mgrid[xmin:xmax:100j, ymin:ymax:100j]\n",
    "positions = np.vstack([X.ravel(), Y.ravel()])\n",
    "values = np.vstack([m1, m2])\n",
    "kernel = stats.gaussian_kde(values)\n",
    "Z = np.reshape(kernel(positions).T, X.shape)\n",
    "\n",
    "# plot the result\n",
    "\n",
    "fig, ax = plt.subplots(figsize = (10,8))\n",
    "i = ax.imshow(np.rot90(Z), cmap=plt.cm.jet,\n",
    "           extent=[xmin, xmax, ymin, ymax])\n",
    "\n",
    "fig.colorbar(i)\n",
    "ax.plot(m1, m2, 'k.', markersize=5)\n",
    "ax.set_xlim([xmin, xmax])\n",
    "ax.set_ylim([ymin, ymax])\n",
    "ax.set_xlabel('X values')\n",
    "ax.set_ylabel('y values')\n",
    "fig.show()"
   ]
  },
  {
   "cell_type": "code",
   "execution_count": null,
   "metadata": {},
   "outputs": [],
   "source": []
  }
 ],
 "metadata": {
  "kernelspec": {
   "display_name": "Python 3",
   "language": "python",
   "name": "python3"
  },
  "language_info": {
   "codemirror_mode": {
    "name": "ipython",
    "version": 3
   },
   "file_extension": ".py",
   "mimetype": "text/x-python",
   "name": "python",
   "nbconvert_exporter": "python",
   "pygments_lexer": "ipython3",
   "version": "3.6.9"
  }
 },
 "nbformat": 4,
 "nbformat_minor": 4
}
