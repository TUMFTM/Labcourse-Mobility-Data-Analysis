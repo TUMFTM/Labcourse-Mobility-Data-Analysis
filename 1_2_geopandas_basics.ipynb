{
 "cells": [
  {
   "cell_type": "markdown",
   "metadata": {},
   "source": [
    "# GeoPandas Basics"
   ]
  },
  {
   "cell_type": "markdown",
   "metadata": {},
   "source": [
    "## 0 Imports"
   ]
  },
  {
   "cell_type": "markdown",
   "metadata": {},
   "source": [
    "The following packages will be needed for this notebook."
   ]
  },
  {
   "cell_type": "code",
   "execution_count": 1,
   "metadata": {},
   "outputs": [],
   "source": [
    "# Imports:\n",
    "import geopandas as gpd\n",
    "import pandas as pd\n",
    "from math import cos, sin, radians, sqrt\n",
    "from matplotlib import pyplot as plt\n",
    "from shapely.geometry import Point, box\n",
    "import random"
   ]
  },
  {
   "cell_type": "markdown",
   "metadata": {},
   "source": [
    "## 1 Introduction"
   ]
  },
  {
   "cell_type": "markdown",
   "metadata": {},
   "source": [
    "GeoPandas is a python module which is built upon pandas - one of the most prominent data analysis libraries in python. Further information on pandas, including its documentation can be found here: https://pandas.pydata.org/.\n",
    "GeoPandas' aim is to provide an easy-to-use data analysis environment for geospatial data. It allows for spatial operations on geometric types. Geometric types in GeoPandas are defined by shapely objects, which you already know from the previous exercise. \n",
    "We will use GeoPandas in many of the exercises of this labcourse. Hence, this notebook will introduce you to its main concepts, including concepts that are also valid in pandas. Nevertheless, due to its close relation to pandas you may also want to look up the pandas documentation from time to time, if you need help during any of the exercises to come.\n",
    "Further information on GeoPandas can be found in the GeoPandas documentation: http://geopandas.org/\n"
   ]
  },
  {
   "cell_type": "markdown",
   "metadata": {},
   "source": [
    "## 2 GeoSeries"
   ]
  },
  {
   "cell_type": "markdown",
   "metadata": {},
   "source": [
    "One of the basic structures of pandas is the Series. A Series is a one-dimensional array which contains information about related data (https://pandas.pydata.org/pandas-docs/stable/reference/api/pandas.Series.html). In addition to the data, a Series also comprises a label for each data piece. This label is also called \"index\". There are as many labels in a Series as there are rows. Labels, can, but do not need to be unique. If no index is specified explicitely, the index is generated automatically. The following example shows the initialization of a simple pandas Series:"
   ]
  },
  {
   "cell_type": "code",
   "execution_count": 2,
   "metadata": {},
   "outputs": [
    {
     "name": "stdout",
     "output_type": "stream",
     "text": [
      "Series with custom indexing: \n",
      "a    1\n",
      "b    2\n",
      "c    3\n",
      "dtype: int64\n",
      "\n",
      "Series with automatic indexing: \n",
      "0    1\n",
      "1    2\n",
      "2    3\n",
      "dtype: int64\n"
     ]
    }
   ],
   "source": [
    "# Some data to generate a Series\n",
    "my_data = [1,2,3]\n",
    "my_labels = [\"a\", \"b\", \"c\"]\n",
    "\n",
    "# Initialize the Series, once with a custom index and once with automatic indexing\n",
    "my_series_custom_ind = pd.Series(my_data, index=my_labels)\n",
    "my_series_automatic_ind = pd.Series(my_data)\n",
    "\n",
    "# Print the result\n",
    "print(\"Series with custom indexing: \\n\"+str(my_series_custom_ind))\n",
    "print(\"\\nSeries with automatic indexing: \\n\"+str(my_series_automatic_ind))"
   ]
  },
  {
   "cell_type": "markdown",
   "metadata": {},
   "source": [
    "While a pandas Series object can hold a number of different data types, GeoPandas offers a much more specified data container called a GeoSeries. A GeoSeries can only hold shapely geometry objects, but is well suited to perform operations on these. Other than that, it behaves just like a pandas Series object. Therefore, many operations that work with pandas Series objects will also work on GeoSeries objects.\n",
    "Just like the pandas Series, a GeoSeries stores related data. Because this data is by nature of a geometric type, there are two possible interpretations of the contents of a GeoSeries.\n",
    "\n",
    "A GeoSeries can be interpreted as:\n",
    "    1.) A set of related geometries regarding their content (e.g. boundaries of different countries)\n",
    "    2.) A set containing different representations of the same geometry (e.g. country boundaries over the centuries)\n",
    "    \n",
    "We will have a look at both types of GeoSeries in the next two sections (2.1 and 2.2). "
   ]
  },
  {
   "cell_type": "markdown",
   "metadata": {},
   "source": [
    "### 2.1 GeoSeries -  Set of Related Geometries"
   ]
  },
  {
   "cell_type": "markdown",
   "metadata": {},
   "source": [
    "The first interpretation of a GeoSeries is that the contents of the GeoSeries are a set of related geometries. This geometries can be related in many ways, but in many cases they are different geometric objects that describe real world geometries of the same type, e.g. all the countries of europe. \n",
    "To make life easier, we will use a scenario with seven very simple countries named a, b, c, d, e, f and g whose borders are all defined by shapely boxes:"
   ]
  },
  {
   "cell_type": "code",
   "execution_count": 3,
   "metadata": {},
   "outputs": [],
   "source": [
    "# Let's define seven different countries named a, b, c, d, e, f and g and assign them a border object \n",
    "COUNTRY_NAMES = ['a', 'b', 'c', 'd', 'e', 'f', 'g'] # Index of the countries GeoSeries = Name of the country\n",
    "COUNTRY_BOXES = [box(0,0,3,2), box(0,2,1,7), box(1,4,2,7), box(1,2,4,4), box(3,1,5,2), box(4,2,6,5), box(3,4,4,5)] # Geometry column of the GeoSeries = Border of the country"
   ]
  },
  {
   "cell_type": "markdown",
   "metadata": {},
   "source": [
    "From this raw data we can create a GeoSeries object. A GeoSeries object is initialized just like a Series object in pandas:"
   ]
  },
  {
   "cell_type": "code",
   "execution_count": 4,
   "metadata": {},
   "outputs": [],
   "source": [
    "# Let's create a GeoSeries with the names as index (if no index is supplied, the entries will be numbered 1,2,...N)\n",
    "countries_gs = gpd.GeoSeries(COUNTRY_BOXES, index=COUNTRY_NAMES)"
   ]
  },
  {
   "cell_type": "markdown",
   "metadata": {},
   "source": [
    "By plotting the contents of the GeoSeries using knowledge from the shapely basics notebook we obtain a map plot of our seven countries. We will often plot the countries GeoSeries in this notebook. To make plotting a little simpler and unify the appearance of the countries plots, we define a set of functions to easily handle country plots."
   ]
  },
  {
   "cell_type": "code",
   "execution_count": 5,
   "metadata": {},
   "outputs": [],
   "source": [
    "# A function that labels the countries in a map plot\n",
    "def plot_names_centroids_countries():\n",
    "    N = len(COUNTRY_NAMES)\n",
    "    for i in range(0,N):\n",
    "        plt.text(COUNTRY_BOXES[i].centroid.x, COUNTRY_BOXES[i].centroid.y, COUNTRY_NAMES[i], horizontalalignment='center')\n",
    "\n",
    "# Define a function to scale a figure to the specified sizes\n",
    "def scale_plot(xlim, ylim, xfigsize, yfigsize, fig):\n",
    "    fig.set_size_inches((xfigsize, yfigsize)) # Define the output size in inches\n",
    "    plt.xlim(xlim) # Define the x limit of the plot\n",
    "    plt.ylim(ylim) # Define the y limit of the plot\n",
    "\n",
    "# A function to scale and label all plots of our country data\n",
    "def setup_country_plot(fig, title):\n",
    "    plot_names_centroids_countries()\n",
    "    plt.title(title)\n",
    "    plt.xlabel(\"x [1000*km]\")\n",
    "    plt.ylabel(\"y [1000*km]\")\n",
    "    scale_plot(*MAP_SCALE, *MAP_FIGSIZE, fig)"
   ]
  },
  {
   "cell_type": "markdown",
   "metadata": {},
   "source": [
    "With the newly defined functions we can easily print a nice-looking map comprising our artificial countries:"
   ]
  },
  {
   "cell_type": "code",
   "execution_count": 6,
   "metadata": {},
   "outputs": [
    {
     "data": {
      "image/png": "[encoded data removed]",
      "text/plain": [
       "<matplotlib.figure.Figure at 0x1a6dff207f0>"
      ]
     },
     "metadata": {},
     "output_type": "display_data"
    }
   ],
   "source": [
    "# Let's print our map (remember the shapely basics notebook)\n",
    "fig = plt.figure()\n",
    "for poly in countries_gs:\n",
    "    plt.plot(*poly.exterior.xy)\n",
    "    \n",
    "# Save map style (we will use this to scale all country maps plotted in this notebook equally)\n",
    "x_lim_map = plt.xlim()\n",
    "y_lim_map = plt.ylim()\n",
    "MAP_SCALE = [x_lim_map, y_lim_map]\n",
    "MAP_FIGSIZE = plt.gcf().get_size_inches()\n",
    "\n",
    "setup_country_plot(fig, title=\"Countries\")\n"
   ]
  },
  {
   "cell_type": "markdown",
   "metadata": {},
   "source": [
    "### 2.2 GeoSeries - Different Representations of one Geometry"
   ]
  },
  {
   "cell_type": "markdown",
   "metadata": {},
   "source": [
    "As mentioned before, a GeoSeries can not only store a set of related but different geometry (Section 2.1). It can also be used to store different representations of the same geometry. An example application for this interpretation is the ball throw: while the geometry under observation remains the same (here: a ball represented by a point), its position changes. Another example in the context of mobility data analysis would be the position of a driving car. But let us stick to the ball throw for a moment. A simple simulation can be used to generate a GeoSeries:"
   ]
  },
  {
   "cell_type": "code",
   "execution_count": 7,
   "metadata": {},
   "outputs": [],
   "source": [
    "# A function to evaluate all state variables of a thrown ball at time t when the initial state is known\n",
    "def ball_throw(x_0, y_0, v_0, theta, t):\n",
    "\n",
    "    g = 9.81 # Gravitational constant\n",
    "\n",
    "    v_x = v_0*cos(theta) # Velocity in x-direction at time t\n",
    "    v_y = v_0*sin(theta) - g*t # Velocity in y-direction at time t\n",
    "\n",
    "    x = x_0 + v_0*cos(theta)*t # Location in x-direction at time t\n",
    "    y = y_0 + v_0*sin(theta)*t-0.5*g*t*t # Location in y-direction at time t\n",
    "\n",
    "    return x, v_x, y, v_y\n",
    "\n",
    "# Let's simulate a thrown ball with the following parameters:\n",
    "\n",
    "# Simulation parameters\n",
    "start_t_s = 0\n",
    "end_t_s = 1\n",
    "step_width_ms = 10\n",
    "times = list(range(start_t_s*1000, end_t_s*1000, step_width_ms))\n",
    "times = [t/1000 for t in times]\n",
    "\n",
    "# Initial conditions\n",
    "x_0 = 0\n",
    "y_0 = 5\n",
    "v_0 = 3\n",
    "theta = radians(70)\n",
    "\n",
    "# Simulation\n",
    "state_list = [ball_throw(x_0, y_0, v_0, theta, t) for t in times]\n",
    "\n",
    "# Create shapely_points\n",
    "point_list = [Point(state[0], state[2]) for state in state_list]\n",
    "\n",
    "# Create a GeoSeries and use the time as index\n",
    "ball_throw_gs = gpd.GeoSeries(point_list, index = times)"
   ]
  },
  {
   "cell_type": "markdown",
   "metadata": {},
   "source": [
    "Similar to the countries example we make our lifes easier by defining a plotting routine for the ball throw, which we can later use to generate beautiful plots of our examples:"
   ]
  },
  {
   "cell_type": "code",
   "execution_count": 8,
   "metadata": {},
   "outputs": [],
   "source": [
    "# A function to scale and label all plots of our country data\n",
    "def setup_ball_throw_plot(fig, title):\n",
    "    plt.title(title)\n",
    "    plt.xlabel(\"x [m]\")\n",
    "    plt.ylabel(\"y [m]\")\n",
    "    scale_plot(*BALL_THROW_SCALE, *BALL_THROW_FIGSIZE, fig)"
   ]
  },
  {
   "cell_type": "markdown",
   "metadata": {},
   "source": [
    "Let's have a look at the ball throw we just simulated and stored in a GeoSeries object:"
   ]
  },
  {
   "cell_type": "code",
   "execution_count": 9,
   "metadata": {},
   "outputs": [
    {
     "data": {
      "image/png": "[encoded data removed]",
      "text/plain": [
       "<matplotlib.figure.Figure at 0x1a6e1f58198>"
      ]
     },
     "metadata": {},
     "output_type": "display_data"
    }
   ],
   "source": [
    "# Plot the ball throw GeoSeries\n",
    "fig = plt.figure()\n",
    "for pt in ball_throw_gs:\n",
    "    plt.scatter(*pt.xy, color=\"C0\")\n",
    "\n",
    "# Save ball throw style\n",
    "x_lim_map = plt.xlim()\n",
    "y_lim_map = plt.ylim()\n",
    "BALL_THROW_SCALE = [x_lim_map, y_lim_map]\n",
    "BALL_THROW_FIGSIZE = plt.gcf().get_size_inches()\n",
    "\n",
    "# Scale and label ball throw plot\n",
    "setup_ball_throw_plot(fig, title=\"Ball Throw\")"
   ]
  },
  {
   "cell_type": "markdown",
   "metadata": {},
   "source": [
    "### 2.3 Accessing a GeoSeries"
   ]
  },
  {
   "cell_type": "markdown",
   "metadata": {},
   "source": [
    "In Sections 2.1 and 2.2 different GeoSeries objects were created. One of the GeoSeries contains the borders of seven fictive countries, the other one the simulation results of a ball throw. For data analysis, the data in the newly created GeoSeries needs to be accessed. Hence, Section 2.3 deals with different ways of data access in (Geo-)Series. You will use most of these access methods in the remainder of this labcourse. Please note, that this is not GeoPandas specific, data access works all the same in pandas. For further information on data access in Series and DataFrames (which you will learn about in Section 3), please refer to: https://pandas.pydata.org/pandas-docs/stable/user_guide/indexing.html"
   ]
  },
  {
   "cell_type": "markdown",
   "metadata": {},
   "source": [
    "#### 2.3.1 Retrieving individual objects"
   ]
  },
  {
   "cell_type": "markdown",
   "metadata": {},
   "source": [
    "This section deals with different ways of retrieving individual objects from a (Geo)Series. After each example, the result is visualized to check the result. \n",
    "\n",
    "The first way to retrieve data from a Series is the index (label): "
   ]
  },
  {
   "cell_type": "code",
   "execution_count": 10,
   "metadata": {},
   "outputs": [
    {
     "data": {
      "image/png": "[encoded data removed]",
      "text/plain": [
       "<matplotlib.figure.Figure at 0x1a6e215c3c8>"
      ]
     },
     "metadata": {},
     "output_type": "display_data"
    }
   ],
   "source": [
    "# Using the index, data can be retrieved from a GeoSeries using square brackets\n",
    "a = countries_gs[\"a\"]\n",
    "\n",
    "# Checking the result\n",
    "fig = plt.figure()\n",
    "plt.plot(*a.exterior.xy)\n",
    "setup_country_plot(fig, title=\"Country a\")"
   ]
  },
  {
   "cell_type": "markdown",
   "metadata": {},
   "source": [
    "An alternative way to access data by its index is the loc attribute of a (Geo)Series:"
   ]
  },
  {
   "cell_type": "code",
   "execution_count": 11,
   "metadata": {},
   "outputs": [
    {
     "data": {
      "image/png": "[encoded data removed]",
      "text/plain": [
       "<matplotlib.figure.Figure at 0x1a6e2166c88>"
      ]
     },
     "metadata": {},
     "output_type": "display_data"
    }
   ],
   "source": [
    "# An alternative to using the index to retrieve a row is the loc attribute\n",
    "b = countries_gs.loc[\"b\"]\n",
    "\n",
    "# Checking the result\n",
    "fig = plt.figure()\n",
    "plt.plot(*b.exterior.xy)\n",
    "setup_country_plot(fig, title=\"Country b\")"
   ]
  },
  {
   "cell_type": "markdown",
   "metadata": {},
   "source": [
    "Instead of using indices/labels one can also work with positional indices. To retrieve data from a (Geo)Series using positional indexing, the .iloc-attribute is used. Remember: Indexing in python starts with 0 most of the time! "
   ]
  },
  {
   "cell_type": "code",
   "execution_count": 12,
   "metadata": {},
   "outputs": [
    {
     "data": {
      "image/png": "[encoded data removed]",
      "text/plain": [
       "<matplotlib.figure.Figure at 0x1a6e22008d0>"
      ]
     },
     "metadata": {},
     "output_type": "display_data"
    }
   ],
   "source": [
    "# Data can also be retrieved using positional indices using iloc\n",
    "g = countries_gs.iloc[6]\n",
    "\n",
    "# Checking the result\n",
    "fig = plt.figure()\n",
    "plt.plot(*g.exterior.xy)\n",
    "setup_country_plot(fig, title=\"Country g\")"
   ]
  },
  {
   "cell_type": "markdown",
   "metadata": {},
   "source": [
    "#### 2.3.2 Retrieving multiple objects"
   ]
  },
  {
   "cell_type": "markdown",
   "metadata": {},
   "source": [
    "Many times, one needs to retrieve multiple elements of a (Geo)Series, rather than individual ones. This can be done in multiple ways:"
   ]
  },
  {
   "cell_type": "markdown",
   "metadata": {},
   "source": [
    "##### Lists"
   ]
  },
  {
   "cell_type": "markdown",
   "metadata": {},
   "source": [
    "The basic concepts of retrieving individual objects can also be used to select multiple elements if lists are used, i.e. index selection, iloc selection and loc selection also work when multiple indexes are passed in a list structure:"
   ]
  },
  {
   "cell_type": "code",
   "execution_count": 13,
   "metadata": {},
   "outputs": [
    {
     "data": {
      "image/png": "[encoded data removed]",
      "text/plain": [
       "<matplotlib.figure.Figure at 0x1a6cf23b908>"
      ]
     },
     "metadata": {},
     "output_type": "display_data"
    }
   ],
   "source": [
    "# Selecting multiple elements of a GeoSeries using a list of indices\n",
    "a_c = countries_gs[[\"a\", \"c\"]]\n",
    "\n",
    "# Checking the result\n",
    "fig = plt.figure()\n",
    "for poly in a_c:\n",
    "    plt.plot(*poly.exterior.xy)\n",
    "setup_country_plot(fig, title=\"Countries a and c\")"
   ]
  },
  {
   "cell_type": "markdown",
   "metadata": {},
   "source": [
    "Analogous to index selection, loc selection can also be used together with lists. Use a loc selection to select countries d and e from the countries GeoSeries and store the result in a variable called d_e! Take a look at the plot. Have you selected the countries correctly?"
   ]
  },
  {
   "cell_type": "code",
   "execution_count": 14,
   "metadata": {},
   "outputs": [
    {
     "data": {
      "image/png": "[encoded data removed]",
      "text/plain": [
       "<matplotlib.figure.Figure at 0x1a6e21d0198>"
      ]
     },
     "metadata": {},
     "output_type": "display_data"
    }
   ],
   "source": [
    "# Use loc selection together with a list to select countries d and e!\n",
    "# d_e = ....\n",
    "\n",
    "#<<solution>>\n",
    "# Selecting multiple elements of a GeoSeries using a list of indices with the .loc attribute\n",
    "d_e = countries_gs.loc[[\"d\", \"e\"]]\n",
    "#<</solution>>\n",
    "\n",
    "# Checking the result\n",
    "fig = plt.figure()\n",
    "for poly in d_e:\n",
    "    plt.plot(*poly.exterior.xy)\n",
    "setup_country_plot(fig, title=\"Countries d and e\")"
   ]
  },
  {
   "cell_type": "markdown",
   "metadata": {},
   "source": [
    "Now use iloc selection to select countries f and g and store the selected elements of the countries GeoSeries in a variable called f_g."
   ]
  },
  {
   "cell_type": "code",
   "execution_count": 15,
   "metadata": {},
   "outputs": [
    {
     "data": {
      "image/png": "[encoded data removed]",
      "text/plain": [
       "<matplotlib.figure.Figure at 0x1a6dfd89cf8>"
      ]
     },
     "metadata": {},
     "output_type": "display_data"
    }
   ],
   "source": [
    "# Use iloc selection together with a list to select countries f and g!\n",
    "# f_g = ....\n",
    "\n",
    "#<<solution>>\n",
    "# Selecting multiple elements of a GeoSeries using a list of positional indices with the .iloc attribute\n",
    "f_g = countries_gs.iloc[[5,6]]\n",
    "#<</solution>>\n",
    "\n",
    "# Checking the result\n",
    "fig = plt.figure()\n",
    "for poly in f_g:\n",
    "    plt.plot(*poly.exterior.xy)\n",
    "setup_country_plot(fig, title=\"Countries f and g\")"
   ]
  },
  {
   "cell_type": "markdown",
   "metadata": {},
   "source": [
    "##### Slicing"
   ]
  },
  {
   "cell_type": "markdown",
   "metadata": {},
   "source": [
    "Because a (Geo)Series is an ordered array of data, slicing is possible as well. The \":\" operator is used to select slices of subsequent data from a (Geo)Series. Again, the basic concepts of index selection, loc and iloc selection are adapted:"
   ]
  },
  {
   "cell_type": "code",
   "execution_count": 16,
   "metadata": {},
   "outputs": [
    {
     "data": {
      "image/png": "[encoded data removed]",
      "text/plain": [
       "<matplotlib.figure.Figure at 0x1a6e204e5f8>"
      ]
     },
     "metadata": {},
     "output_type": "display_data"
    }
   ],
   "source": [
    "# Selecting multiple elements of a GeoSeries using a slice of indices\n",
    "c2e = countries_gs[\"c\":\"e\"]\n",
    "\n",
    "# Checking the result\n",
    "fig = plt.figure()\n",
    "for poly in c2e:\n",
    "    plt.plot(*poly.exterior.xy)\n",
    "setup_country_plot(fig, title=\"Countries c2e\")"
   ]
  },
  {
   "cell_type": "code",
   "execution_count": 17,
   "metadata": {},
   "outputs": [
    {
     "data": {
      "image/png": "[encoded data removed]",
      "text/plain": [
       "<matplotlib.figure.Figure at 0x1a6e2195da0>"
      ]
     },
     "metadata": {},
     "output_type": "display_data"
    }
   ],
   "source": [
    "# Selecting multiple elements of a GeoSeries using a slice of indices with the .loc attribute\n",
    "c2f = countries_gs.loc[\"c\":\"f\"]\n",
    "\n",
    "# Checking the result\n",
    "fig = plt.figure()\n",
    "for poly in c2f:\n",
    "    plt.plot(*poly.exterior.xy)\n",
    "setup_country_plot(fig, title=\"Countries c2f\")"
   ]
  },
  {
   "cell_type": "markdown",
   "metadata": {},
   "source": [
    "Use iloc selection to select countries b, c, and d by slicing:"
   ]
  },
  {
   "cell_type": "code",
   "execution_count": 18,
   "metadata": {},
   "outputs": [
    {
     "data": {
      "image/png": "[encoded data removed]",
      "text/plain": [
       "<matplotlib.figure.Figure at 0x1a6e206b828>"
      ]
     },
     "metadata": {},
     "output_type": "display_data"
    }
   ],
   "source": [
    "# Use iloc selection and slicing to select countries b, c and d!\n",
    "# b2d = ....\n",
    "\n",
    "#<<solution>>\n",
    "# Selecting multiple elements of a GeoSeries using a slice of positional indices with the .iloc attribute\n",
    "b2d = countries_gs.iloc[1:4]\n",
    "#<</solution>>\n",
    "\n",
    "# Checking the result\n",
    "fig = plt.figure()\n",
    "for poly in b2d:\n",
    "    plt.plot(*poly.exterior.xy)\n",
    "setup_country_plot(fig, title=\"Countries b2d\")"
   ]
  },
  {
   "cell_type": "markdown",
   "metadata": {},
   "source": [
    "##### Conditional Selection"
   ]
  },
  {
   "cell_type": "markdown",
   "metadata": {},
   "source": [
    "One of the most powerful ways to select data from a (Geo)Series is conditional selection. Using conditional selection, one can select all elements in a (Geo)Series for which a condition is true. There are two ways to achieve this: \n",
    "\n",
    "1. Use a boolean array\n",
    "2. Use a callable that evaluates to either true or false (e.g. a lambda function https://www.w3schools.com/python/python_lambda.asp)"
   ]
  },
  {
   "cell_type": "code",
   "execution_count": 19,
   "metadata": {},
   "outputs": [
    {
     "data": {
      "image/png": "[encoded data removed]",
      "text/plain": [
       "<matplotlib.figure.Figure at 0x1a6e2102550>"
      ]
     },
     "metadata": {},
     "output_type": "display_data"
    }
   ],
   "source": [
    "# Using a boolean array/list\n",
    "bool_list = [index in [\"a\", \"g\", \"c\"] for index in countries_gs.index]\n",
    "a_g_c = countries_gs[bool_list]\n",
    "\n",
    "# Checking the result\n",
    "fig = plt.figure()\n",
    "for poly in a_g_c:\n",
    "    plt.plot(*poly.exterior.xy)\n",
    "setup_country_plot(fig, title=\"Countries a,c,g selected by condition\")"
   ]
  },
  {
   "cell_type": "code",
   "execution_count": 20,
   "metadata": {},
   "outputs": [
    {
     "data": {
      "image/png": "[encoded data removed]",
      "text/plain": [
       "<matplotlib.figure.Figure at 0x1a6e22cedd8>"
      ]
     },
     "metadata": {},
     "output_type": "display_data"
    }
   ],
   "source": [
    "# Using a callable to select all countries that touch b\n",
    "a_g_c = countries_gs[lambda x: x.touches(countries_gs[\"b\"])] # See the shapely documentation for the \"touches\" operation\n",
    "\n",
    "# Checking the result\n",
    "fig = plt.figure()\n",
    "for poly in a_g_c:\n",
    "    plt.plot(*poly.exterior.xy)\n",
    "setup_country_plot(fig, title=\"Countries a,c,g selected by condition\")"
   ]
  },
  {
   "cell_type": "markdown",
   "metadata": {},
   "source": [
    "Note: Accessing data from a more elaborate data structure like a DataFrame (pandas) or a GeoDataFrame (GeoPandas) works similarily, but returns different objects than data selection in (Geo)Series. You will learn about the concept of GeoDataFrames in the next section. Please make yourself familiar with data access from (Geo)DataFrames using https://pandas.pydata.org/pandas-docs/stable/user_guide/indexing.html and also use this link as a goto resource whenever you get stuck in any exercise regarding (Geo)DataFrames!"
   ]
  },
  {
   "cell_type": "markdown",
   "metadata": {},
   "source": [
    "## 3 GeoDataFrame"
   ]
  },
  {
   "cell_type": "markdown",
   "metadata": {},
   "source": [
    "In real life applications, individual observations contain more than just one type of information. Such data can conveniently be stored in a table-like data structure. For this purpose, pandas offers a so called DataFrame object. A DataFrame is a two-dimensional tabular data structure with an index (labels). https://pandas.pydata.org/pandas-docs/stable/reference/api/pandas.DataFrame.html"
   ]
  },
  {
   "cell_type": "code",
   "execution_count": 21,
   "metadata": {},
   "outputs": [
    {
     "name": "stdout",
     "output_type": "stream",
     "text": [
      "              continent        country  population\n",
      "Berlin           Europe        Germany     3575000\n",
      "Paris            Europe         France     2141000\n",
      "London           Europe  Great Britain     8136000\n",
      "Rome             Europe          Italy     2873000\n",
      "New York  North America  United States     8623000\n"
     ]
    }
   ],
   "source": [
    "# Data for the DataFrame\n",
    "cities = [\"Berlin\", \"Paris\", \"London\", \"Rome\", \"New York\"]\n",
    "city_population = [3575000, 2141000, 8136000, 2873000, 8623000]\n",
    "city_country = [\"Germany\", \"France\", \"Great Britain\", \"Italy\", \"United States\"]\n",
    "city_continent = [\"Europe\", \"Europe\", \"Europe\", \"Europe\", \"North America\"]\n",
    "# Note that the data is provided in the form of a dictionary with the column names als keys and the entries (row values)\n",
    "# as values. \n",
    "data = {\"population\":city_population, \"country\":city_country, \"continent\": city_continent}\n",
    "\n",
    "# Create the DataFrame\n",
    "cities_df = pd.DataFrame(data = data, index = cities)\n",
    "\n",
    "# Show the DataFrame\n",
    "print(cities_df)"
   ]
  },
  {
   "cell_type": "markdown",
   "metadata": {},
   "source": [
    "The corresponding GeoPandas class is called a GeoDataFrame. It is used when additional information shall be stored along with geometric information. A GeoDataFrame always has a geometry column, which is defined by a GeoSeries containing shapely objects. In addition to the geometry column, it can store an arbitrary number of additional columns that provide more information regarding the geometry. The following sections introduce you to the basics of GeoDataFrames."
   ]
  },
  {
   "cell_type": "markdown",
   "metadata": {},
   "source": [
    "### 3.1 Initializing and accessing a GeoDataFrame"
   ]
  },
  {
   "cell_type": "markdown",
   "metadata": {},
   "source": [
    "There are several ways of creating and initializing a GeoDataFrame. To illustrate these, two shapely Points and some table data is created below. For further information, please see the corresponding pandas and Geopandas documentation."
   ]
  },
  {
   "cell_type": "code",
   "execution_count": 22,
   "metadata": {},
   "outputs": [],
   "source": [
    "# Example data\n",
    "pt1 = Point(0,0)\n",
    "pt2 = Point(1,1)\n",
    "pt1_text = \"Zero, Zero\"\n",
    "pt2_text = \"One, One\"\n",
    "pt1_value = 3.7\n",
    "pt2_value = 5"
   ]
  },
  {
   "cell_type": "markdown",
   "metadata": {},
   "source": [
    "With the example data at hand, GeoDataFrames can be created:"
   ]
  },
  {
   "cell_type": "code",
   "execution_count": 79,
   "metadata": {},
   "outputs": [],
   "source": [
    "# Using parameters and lists only\n",
    "gdf_lists = gpd.GeoDataFrame(geometry=[pt1, pt2], data=[[pt1_text, pt1_value], [pt2_text, pt2_value]], columns=[\"text\", \"value\"])\n",
    "\n",
    "# Using a dictionary\n",
    "creation_dict = {\"text\":[pt1_text, pt2_text], \"value\":[pt1_value, pt2_value]}\n",
    "gdf_dict = gpd.GeoDataFrame(geometry=[pt1, pt2], data=creation_dict)\n",
    "\n",
    "# From a GeoSeries\n",
    "creation_gs = gpd.GeoSeries([pt1, pt2])\n",
    "gdf_gs = gpd.GeoDataFrame(geometry=creation_gs, data=creation_dict)"
   ]
  },
  {
   "cell_type": "markdown",
   "metadata": {},
   "source": [
    "Let's check what we have created:"
   ]
  },
  {
   "cell_type": "code",
   "execution_count": 80,
   "metadata": {},
   "outputs": [
    {
     "name": "stdout",
     "output_type": "stream",
     "text": [
      "GeoDataFrame from lists:\n",
      "         text  value     geometry\n",
      "0  Zero, Zero    3.7  POINT (0 0)\n",
      "1    One, One    5.0  POINT (1 1)\n",
      "\n",
      " \n",
      "GeoDataFrame from a dictionary:\n",
      "         text  value     geometry\n",
      "0  Zero, Zero    3.7  POINT (0 0)\n",
      "1    One, One    5.0  POINT (1 1)\n",
      "\n",
      "\n",
      "GeoDataFrame from a GeoSeries:\n",
      "         text  value     geometry\n",
      "0  Zero, Zero    3.7  POINT (0 0)\n",
      "1    One, One    5.0  POINT (1 1)\n"
     ]
    }
   ],
   "source": [
    "print(\"GeoDataFrame from lists:\")\n",
    "print(gdf_lists)\n",
    "print(\"\\n \") # A Linebreak \n",
    "\n",
    "print(\"GeoDataFrame from a dictionary:\")\n",
    "print(gdf_dict)\n",
    "print(\"\\n\") # A Linebreak\n",
    "\n",
    "print(\"GeoDataFrame from a GeoSeries:\")\n",
    "print(gdf_gs)"
   ]
  },
  {
   "cell_type": "markdown",
   "metadata": {},
   "source": [
    "As you can see, there are several ways of creating a new GeoDataFrame. No matter what way you choose, once you have a GeoDataFrame at hand you can access the data inside it much like the data inside GeoSeries. You only have to pay attention to the fact that unlike a GeoSeries, a GeoDataFrame has two dimensions. The following code snippet illustrates some ways to access data inside a GeoDataFrame. The same applies for pandas DataFrames. For further information please refer to https://pandas.pydata.org/pandas-docs/stable/user_guide/indexing.html . "
   ]
  },
  {
   "cell_type": "code",
   "execution_count": 108,
   "metadata": {},
   "outputs": [
    {
     "name": "stdout",
     "output_type": "stream",
     "text": [
      "The text column:\n",
      "0    Zero, Zero\n",
      "1      One, One\n",
      "Name: text, dtype: object\n",
      "\n",
      "\n",
      "Frist row:\n",
      "text         Zero, Zero\n",
      "value               3.7\n",
      "geometry    POINT (0 0)\n",
      "Name: 0, dtype: object\n",
      "\n",
      "\n",
      "Geometry of row two:\n",
      "POINT (0 0)\n",
      "\n",
      "\n",
      "Frist row, second column:\n",
      "3.7\n",
      "\n",
      "\n",
      "Text and value column of the second row:\n",
      "text     One, One\n",
      "value           5\n",
      "Name: 1, dtype: object\n"
     ]
    }
   ],
   "source": [
    "# Lets work with a randomly chosen GeoDataFrame from above to show that the results are the same\n",
    "practice_gdf = random.choice([gdf_gs, gdf_lists, gdf_dict])\n",
    "\n",
    "# Selecting a whole column\n",
    "print(\"The text column:\")\n",
    "print(practice_gdf.text)\n",
    "print(\"\\n\") # A Linebreak\n",
    "\n",
    "# Selecting a row by index\n",
    "print(\"Frist row:\")\n",
    "print(practice_gdf.loc[0])\n",
    "print(\"\\n\") # A Linebreak\n",
    "\n",
    "# Selecting a specific element by index and column name (geometry of row two)\n",
    "print(\"Geometry of row two:\")\n",
    "print(practice_gdf.loc[0, \"geometry\"])\n",
    "print(\"\\n\") # A Linebreak\n",
    "\n",
    "# Selecting a specific element by location (first row, second column)\n",
    "print(\"Frist row, second column:\")\n",
    "print(practice_gdf.iloc[0,1])\n",
    "print(\"\\n\") # A Linebreak\n",
    "\n",
    "# Using slices \n",
    "print(\"Text and value column of the second row:\")\n",
    "print(practice_gdf.loc[1, \"text\":\"value\"])"
   ]
  },
  {
   "cell_type": "markdown",
   "metadata": {},
   "source": [
    "Besides initializing and accessing, GeoDataFrames offer a big and powerful toolbox for working with geometric data. We will explore this toolbox in the following sections. As an example, we will work with two GeoDataFrames initialized by a GeoSeries in the following:"
   ]
  },
  {
   "cell_type": "code",
   "execution_count": 24,
   "metadata": {},
   "outputs": [],
   "source": [
    "# Countries GeoDataFrame\n",
    "countries_gpd = gpd.GeoDataFrame(geometry=countries_gs)\n",
    "\n",
    "# Ball throw GeoDataFrame\n",
    "ball_throw_gpd = gpd.GeoDataFrame(geometry=ball_throw_gs)"
   ]
  },
  {
   "cell_type": "markdown",
   "metadata": {},
   "source": [
    "### 3.2 Visualization of a GeoDataFrame"
   ]
  },
  {
   "cell_type": "markdown",
   "metadata": {},
   "source": [
    "One strength of GeoDataFrames is that they can easily be plotted using the .plot() method. plot() is compatible with matplotlib and, hence, pyplot. It can take matplotlib arguments to customize the plot style."
   ]
  },
  {
   "cell_type": "code",
   "execution_count": 25,
   "metadata": {},
   "outputs": [
    {
     "data": {
      "image/png": "[encoded data removed]",
      "text/plain": [
       "<matplotlib.figure.Figure at 0x1a6e233cb38>"
      ]
     },
     "metadata": {},
     "output_type": "display_data"
    }
   ],
   "source": [
    "# Plotting is easy using GeoDataFrames\n",
    "ax = countries_gpd.plot(alpha=0.3, edgecolor='k')\n",
    "\n",
    "# The general country plotting framework\n",
    "ax.set_aspect(\"auto\")\n",
    "setup_country_plot(ax.figure, title=\"Countries plotted using GeoDataFrame\")"
   ]
  },
  {
   "cell_type": "markdown",
   "metadata": {},
   "source": [
    "As you can see from the countries and ball throw example, geopandas automatically prints the geometry and uses different plot functions of matplotlib to do so. You do not have to use a different function for polygons, points or any other geometry type. Just use the .plot() function. Try it with the ball throw GeoDataFrame!"
   ]
  },
  {
   "cell_type": "code",
   "execution_count": 26,
   "metadata": {},
   "outputs": [
    {
     "data": {
      "image/png": "[encoded data removed]",
      "text/plain": [
       "<matplotlib.figure.Figure at 0x1a6e33d4ba8>"
      ]
     },
     "metadata": {},
     "output_type": "display_data"
    }
   ],
   "source": [
    "# Use the plot function on the ball throw GeoDataFrame to plot the ball throw!\n",
    "# ax = ....\n",
    "\n",
    "#<<solution>>\n",
    "# Plotting the ball throw is as easy as plotting countries\n",
    "ax = ball_throw_gpd.plot()\n",
    "#<</solution>>\n",
    "\n",
    "# The general ball throw plotting framework\n",
    "ax.set_aspect(\"auto\")\n",
    "setup_ball_throw_plot(ax.figure, title=\"Ball throw plotted using GeoDataFrame\")"
   ]
  },
  {
   "cell_type": "markdown",
   "metadata": {},
   "source": [
    "### 3.3 Adding Data to a GeoDataFrame"
   ]
  },
  {
   "cell_type": "markdown",
   "metadata": {},
   "source": [
    "There are several ways of adding data to a (Geo)DataFrame. For further information on the matter see the pandas or geopandas documentation. To add a whole column however, it is possible to initialize it to None and add data with the corresponding length."
   ]
  },
  {
   "cell_type": "code",
   "execution_count": 27,
   "metadata": {},
   "outputs": [],
   "source": [
    "# Add columns to the GeoDataFrames and initialize them with None\n",
    "countries_gpd[\"population\", \"area\"] = None\n",
    "ball_throw_gpd[\"velocity\"] = None\n",
    "\n",
    "# Add data to the new columns\n",
    "# Data can be added using Iterables. Data must be as long as the column\n",
    "# Note: In GeoDataFrames shapely functions and properties are applied to/received for \n",
    "# the whole geometry column. If a column is specified, the function is applied to this column instead.\n",
    "population_max_density = 1000\n",
    "countries_gpd[\"area\"] = countries_gpd.geometry.area\n",
    "countries_gpd[\"population\"] = countries_gpd.area.apply(func=lambda x: 1000*x*random.randint(100,population_max_density)) \n",
    "\n",
    "velocities = [(state[1], state[3]) for state in state_list]\n",
    "total_velocities = [sqrt(v[0]*v[0]+v[1]*v[1]) for v in velocities]\n",
    "\n",
    "ball_throw_gpd[\"velocity\"] = total_velocities"
   ]
  },
  {
   "cell_type": "markdown",
   "metadata": {},
   "source": [
    "### 3.4 Advanced Visualization of a GeoDataFrame"
   ]
  },
  {
   "cell_type": "markdown",
   "metadata": {},
   "source": [
    "Oftentimes, data columns of a GeoDataFrame other than the geometry column shall be visualized. To do so, colormaps can be used. Just pass the column that is supposed to be visualized to the .plot() function and define a colormap to use. The result is a so-called coropleth map (https://en.wikipedia.org/wiki/Choropleth_map) which you have surely seen before."
   ]
  },
  {
   "cell_type": "code",
   "execution_count": 28,
   "metadata": {},
   "outputs": [
    {
     "data": {
      "image/png": "[encoded data removed]",
      "text/plain": [
       "<matplotlib.figure.Figure at 0x1a6e3442dd8>"
      ]
     },
     "metadata": {},
     "output_type": "display_data"
    }
   ],
   "source": [
    "# The new data can also be displayed in the plot\n",
    "# For available colormaps see https://matplotlib.org/examples/color/colormaps_reference.html\n",
    "ax = countries_gpd.plot(column=\"population\", cmap='OrRd', legend=True)\n",
    "\n",
    "# The general country plotting framework\n",
    "ax.set_aspect(\"auto\")\n",
    "setup_country_plot(ax.figure, title=\"Population of countries\")"
   ]
  },
  {
   "cell_type": "markdown",
   "metadata": {},
   "source": [
    "Now create a plot for the ball throw example in which the points of the ball throw are colored according to the current velocity of the ball. Use the same colormap as in the countries example and display a legend"
   ]
  },
  {
   "cell_type": "code",
   "execution_count": 29,
   "metadata": {},
   "outputs": [
    {
     "data": {
      "image/png": "[encoded data removed]",
      "text/plain": [
       "<matplotlib.figure.Figure at 0x1a6e23114a8>"
      ]
     },
     "metadata": {},
     "output_type": "display_data"
    }
   ],
   "source": [
    "# Plot the ball throw example and color it according to the velocity!\n",
    "# ax = ....\n",
    "\n",
    "#<<solution>>\n",
    "ax = ball_throw_gpd.plot(column=\"velocity\", cmap='OrRd', legend=True)\n",
    "#<</solution>>\n",
    "\n",
    "# The general ball throw plotting framework\n",
    "ax.set_aspect(\"auto\")\n",
    "setup_ball_throw_plot(ax.figure, title=\"Speed of the ball\")"
   ]
  },
  {
   "cell_type": "markdown",
   "metadata": {},
   "source": [
    "### 3.5 Using Functions on GeoDataFrames"
   ]
  },
  {
   "cell_type": "markdown",
   "metadata": {},
   "source": [
    "Pandas and GeoPandas make it easy and fast to call functions on all elements of a column, without using loops (for-loop). All shapely functions that are called on a GeoDataFrame are automatically carried out using the elements in the geometry column. For an overview of available shapely operations please refer to the shapely basics notebook. An example of the described behavior can be seen in the following example:"
   ]
  },
  {
   "cell_type": "code",
   "execution_count": 30,
   "metadata": {},
   "outputs": [
    {
     "name": "stdout",
     "output_type": "stream",
     "text": [
      "a    False\n",
      "b    False\n",
      "c    False\n",
      "d     True\n",
      "e    False\n",
      "f    False\n",
      "g    False\n",
      "dtype: bool\n"
     ]
    }
   ],
   "source": [
    "# Apply the contains function to every geometry element of a GeoPandas GeoDataFrame\n",
    "print(countries_gpd.contains(Point(3,3)))"
   ]
  },
  {
   "cell_type": "markdown",
   "metadata": {},
   "source": [
    "Arbitrary functions can be applied using the apply()-function. When using the apply function, the rows of a (Geo)DataFrame are iterated. Each row corresponds to a (Geo)Series, that can be treated as known from the beginning of this notebook. Please refer to the pandas documentation for details (https://pandas.pydata.org/pandas-docs/stable/reference/api/pandas.DataFrame.apply.html). A simple example for the apply function is shown in the following code snippet:"
   ]
  },
  {
   "cell_type": "code",
   "execution_count": 31,
   "metadata": {},
   "outputs": [
    {
     "name": "stdout",
     "output_type": "stream",
     "text": [
      "a    False\n",
      "b     True\n",
      "c    False\n",
      "d     True\n",
      "e    False\n",
      "f     True\n",
      "g    False\n",
      "dtype: bool\n"
     ]
    }
   ],
   "source": [
    "# Apply a function to every element in a GeoDataFrame\n",
    "print(countries_gpd.apply(func=lambda x: x.population>3000000, axis = 1))"
   ]
  },
  {
   "cell_type": "markdown",
   "metadata": {},
   "source": [
    "Let's suppose we want to use this knowledge to detect all parts of a ball throw where the ball is located inside a specified airzone. Try to understand the code below. It will help you a great deal with today's homework!"
   ]
  },
  {
   "cell_type": "code",
   "execution_count": 32,
   "metadata": {},
   "outputs": [
    {
     "data": {
      "image/png": "[encoded data removed]",
      "text/plain": [
       "<matplotlib.figure.Figure at 0x1a6e1f61940>"
      ]
     },
     "metadata": {},
     "output_type": "display_data"
    }
   ],
   "source": [
    "# Suppose we have to airzones through which the ball is being thrown:\n",
    "\n",
    "# Define airzones\n",
    "zone1 = box(0,0,0.5,6)\n",
    "zone2 = box(0.5,0,1,6)\n",
    "\n",
    "# We want to know which parts of the ball throw are in which airzones\n",
    "ball_throw_gpd[\"airzone_1\"] = None\n",
    "ball_throw_gpd[\"airzone_2\"] = None\n",
    "\n",
    "USE_METHOD = \"shapely\" # or \"apply\"\n",
    "\n",
    "if USE_METHOD == \"shapely\":\n",
    "    \n",
    "    # Which ball points are in which zone? Use a shapely function on the whole GeoDataFrame\n",
    "    # Note: The operation is automatically carried out on the geometry column\n",
    "    ball_throw_gpd[\"airzone_1\"] = ball_throw_gpd.within(zone1)\n",
    "    ball_throw_gpd[\"airzone_2\"] = ball_throw_gpd.within(zone2)\n",
    "\n",
    "else:\n",
    "    \n",
    "    # Use the apply function to apply a arbitrary function to elements of a dataframe\n",
    "    ball_throw_gpd[\"airzone_1\"] = ball_throw_gpd.apply(func = lambda x: x.geometry.within(zone1), axis = 1)\n",
    "    ball_throw_gpd[\"airzone_2\"] = ball_throw_gpd.apply(func = lambda x: x.geometry.within(zone2), axis = 1)\n",
    "    \n",
    "ball_throw_zone1_gpd = ball_throw_gpd[lambda x: x[\"airzone_1\"]==True]\n",
    "ball_throw_zone2_gpd = ball_throw_gpd[lambda x: x[\"airzone_2\"]==True]\n",
    "\n",
    "# Plot the result\n",
    "# Note that an ax object has to be passed along the plots to not open a figure for every plot\n",
    "\n",
    "# Plot the ball throw\n",
    "ax = ball_throw_zone1_gpd.plot(color='y')\n",
    "ball_throw_zone2_gpd.plot(ax =ax, color='red')\n",
    "\n",
    "# Plot the airzones\n",
    "ax.plot(*zone1.exterior.xy, color='y')\n",
    "ax.plot(*zone2.exterior.xy, color='red')\n",
    "ax.text(zone1.centroid.x, zone1.centroid.y, \"airzone 1\")\n",
    "ax.text(zone2.centroid.x, zone2.centroid.y, \"airzone 2\")\n",
    "\n",
    "# The general ball throw plotting framework\n",
    "ax.set_aspect(\"auto\")\n",
    "setup_ball_throw_plot(ax.figure, title=\"Ball throw with airzones\")\n"
   ]
  },
  {
   "cell_type": "code",
   "execution_count": null,
   "metadata": {},
   "outputs": [],
   "source": []
  }
 ],
 "metadata": {
  "kernelspec": {
   "display_name": "Python 3",
   "language": "python",
   "name": "python3"
  },
  "language_info": {
   "codemirror_mode": {
    "name": "ipython",
    "version": 3
   },
   "file_extension": ".py",
   "mimetype": "text/x-python",
   "name": "python",
   "nbconvert_exporter": "python",
   "pygments_lexer": "ipython3",
   "version": "3.6.4"
  }
 },
 "nbformat": 4,
 "nbformat_minor": 1
}
